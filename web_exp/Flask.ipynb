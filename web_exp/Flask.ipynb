{
 "cells": [
  {
   "cell_type": "code",
   "execution_count": 5,
   "metadata": {},
   "outputs": [],
   "source": [
    "# web_server.py\n",
    "\n",
    "from flask import Flask, request, render_template, jsonify\n",
    " "
   ]
  },
  {
   "cell_type": "code",
   "execution_count": null,
   "metadata": {},
   "outputs": [
    {
     "name": "stdout",
     "output_type": "stream",
     "text": [
      " * Serving Flask app \"__main__\" (lazy loading)\n",
      " * Environment: production\n",
      "   WARNING: This is a development server. Do not use it in a production deployment.\n",
      "   Use a production WSGI server instead.\n",
      " * Debug mode: off\n"
     ]
    },
    {
     "name": "stderr",
     "output_type": "stream",
     "text": [
      " * Running on http://127.0.0.1:5000/ (Press CTRL+C to quit)\n",
      "127.0.0.1 - - [06/Oct/2020 03:08:25] \"\u001b[37mGET /index HTTP/1.1\u001b[0m\" 200 -\n",
      "127.0.0.1 - - [06/Oct/2020 03:08:25] \"\u001b[37mGET /static/jquery.js HTTP/1.1\u001b[0m\" 200 -\n",
      "127.0.0.1 - - [06/Oct/2020 03:08:25] \"\u001b[37mGET /static/script.js HTTP/1.1\u001b[0m\" 200 -\n",
      "127.0.0.1 - - [06/Oct/2020 03:08:25] \"\u001b[33mGET /favicon.ico HTTP/1.1\u001b[0m\" 404 -\n",
      "127.0.0.1 - - [06/Oct/2020 03:08:32] \"\u001b[37mPOST /process HTTP/1.1\u001b[0m\" 200 -\n"
     ]
    },
    {
     "name": "stdout",
     "output_type": "stream",
     "text": [
      "<Request 'http://127.0.0.1:5000/process' [POST]>\n"
     ]
    }
   ],
   "source": [
    "app = Flask(__name__, template_folder='views',)\n",
    " \n",
    "# @app.route(\"/\")\n",
    "# def hello():\n",
    "#     return \"Hello, World!\"\n",
    "\n",
    "@app.route('/')\n",
    "@app.route('/index')\n",
    "@app.route('/index.html')\n",
    "def index():\n",
    "    return render_template('index.html')\n",
    "\n",
    "\n",
    "@app.route('/process', methods = ['POST'])\n",
    "def process_data():\n",
    "    print(request)\n",
    "    return jsonify({ \n",
    "        '1': \"Err1\", \n",
    "        '2': \"Err2\", \n",
    "    })\n",
    "\n",
    "  \n",
    "app.run(debug = 0)"
   ]
  },
  {
   "cell_type": "code",
   "execution_count": null,
   "metadata": {},
   "outputs": [],
   "source": []
  }
 ],
 "metadata": {
  "kernelspec": {
   "display_name": "Python 3",
   "language": "python",
   "name": "python3"
  },
  "language_info": {
   "codemirror_mode": {
    "name": "ipython",
    "version": 3
   },
   "file_extension": ".py",
   "mimetype": "text/x-python",
   "name": "python",
   "nbconvert_exporter": "python",
   "pygments_lexer": "ipython3",
   "version": "3.7.6"
  }
 },
 "nbformat": 4,
 "nbformat_minor": 4
}
